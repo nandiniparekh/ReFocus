{
  "nbformat": 4,
  "nbformat_minor": 0,
  "metadata": {
    "colab": {
      "provenance": [],
      "machine_shape": "hm",
      "gpuType": "L4",
      "include_colab_link": true
    },
    "kernelspec": {
      "name": "python3",
      "display_name": "Python 3"
    },
    "language_info": {
      "name": "python"
    },
    "accelerator": "GPU"
  },
  "cells": [
    {
      "cell_type": "markdown",
      "metadata": {
        "id": "view-in-github",
        "colab_type": "text"
      },
      "source": [
        "<a href=\"https://colab.research.google.com/github/nandiniparekh/ReFocus/blob/main/ML_model_pipeline.ipynb\" target=\"_parent\"><img src=\"https://colab.research.google.com/assets/colab-badge.svg\" alt=\"Open In Colab\"/></a>"
      ]
    },
    {
      "cell_type": "code",
      "source": [
        "# --- Install gdown if needed ---\n",
        "!pip install gdown --quiet\n",
        "\n",
        "# --- Imports ---\n",
        "import gdown\n",
        "import pandas as pd\n",
        "import numpy as np\n",
        "import torch\n",
        "from torch.utils.data import Dataset, DataLoader, random_split\n",
        "import torch.nn as nn\n",
        "from sklearn.preprocessing import StandardScaler"
      ],
      "metadata": {
        "id": "a-Hi0qkx_tHU"
      },
      "execution_count": null,
      "outputs": []
    },
    {
      "cell_type": "code",
      "source": [
        "# --- Step 1: Download dataset from Google Drive ---\n",
        "file_id = \"1gZPZxka2PjjNqKZcoFkjRezQ1xGqE1n0\"\n",
        "file_name = \"dataset_complied.csv\"\n",
        "gdown.download(f\"https://drive.google.com/uc?id={file_id}\", file_name, quiet=False)\n"
      ],
      "metadata": {
        "colab": {
          "base_uri": "https://localhost:8080/",
          "height": 105
        },
        "id": "5VaxODFG_uBV",
        "outputId": "f0d85016-7bf6-4922-e60b-7afb9c02ec97"
      },
      "execution_count": null,
      "outputs": [
        {
          "output_type": "stream",
          "name": "stderr",
          "text": [
            "Downloading...\n",
            "From: https://drive.google.com/uc?id=1gZPZxka2PjjNqKZcoFkjRezQ1xGqE1n0\n",
            "To: /content/dataset_complied.csv\n",
            "100%|██████████| 11.2M/11.2M [00:00<00:00, 60.3MB/s]\n"
          ]
        },
        {
          "output_type": "execute_result",
          "data": {
            "text/plain": [
              "'dataset_complied.csv'"
            ],
            "application/vnd.google.colaboratory.intrinsic+json": {
              "type": "string"
            }
          },
          "metadata": {},
          "execution_count": 2
        }
      ]
    },
    {
      "cell_type": "code",
      "source": [
        "df.columns"
      ],
      "metadata": {
        "colab": {
          "base_uri": "https://localhost:8080/"
        },
        "id": "Iefh2XcBtPiH",
        "outputId": "d60acf7c-1167-4413-fd52-6ed307020164"
      },
      "execution_count": null,
      "outputs": [
        {
          "output_type": "execute_result",
          "data": {
            "text/plain": [
              "Index(['id', 'left_eye_x_norm', 'left_eye_y_norm', 'right_eye_x_norm',\n",
              "       'right_eye_y_norm', 'face_width_norm', 'gaze_pitch', 'gaze_yaw',\n",
              "       'au1_innerbrow', 'au2_outerbrow', 'au4_browlower', 'is_focused'],\n",
              "      dtype='object')"
            ]
          },
          "metadata": {},
          "execution_count": 28
        }
      ]
    },
    {
      "cell_type": "code",
      "source": [
        "\n",
        "# --- Step 2: Load dataset ---\n",
        "df = pd.read_csv(file_name)\n"
      ],
      "metadata": {
        "id": "te3fjYaM_u9T"
      },
      "execution_count": null,
      "outputs": []
    },
    {
      "cell_type": "code",
      "source": [
        "\n",
        "# --- Step 3: Constants ---\n",
        "WINDOW_SIZE = 10\n",
        "FEATURES = ['left_eye_x_norm', 'left_eye_y_norm', 'right_eye_x_norm', 'right_eye_y_norm',\n",
        "            'face_width_norm', 'gaze_pitch', 'gaze_yaw', 'au1_innerbrow', 'au2_outerbrow', 'au4_browlower']\n",
        "TARGET = ['is_focused']"
      ],
      "metadata": {
        "id": "L32hJ0vs_wIc"
      },
      "execution_count": null,
      "outputs": []
    },
    {
      "cell_type": "code",
      "source": [
        "# --- Step 4: Dataset class ---\n",
        "class FocusDataset(Dataset):\n",
        "    def __init__(self, df, window_size=10, normalize=True):\n",
        "        self.X = []\n",
        "        self.y = []\n",
        "\n",
        "        for subj_id in df['id'].unique():\n",
        "            df_sub = df[df['id'] == subj_id].copy()\n",
        "\n",
        "            if normalize:\n",
        "                scaler = StandardScaler()\n",
        "                df_sub[FEATURES] = scaler.fit_transform(df_sub[FEATURES])\n",
        "\n",
        "            for j in range(window_size - 1, len(df_sub)):\n",
        "                window = df_sub.iloc[j - window_size + 1:j + 1]\n",
        "                self.X.append(window[FEATURES].values)\n",
        "                self.y.append(int(df_sub.iloc[j][TARGET].item()))\n",
        "\n",
        "        self.X = torch.tensor(np.array(self.X), dtype=torch.float32)\n",
        "        self.y = torch.tensor(np.array(self.y), dtype=torch.long)  # For CrossEntropyLoss\n",
        "\n",
        "    def __len__(self):\n",
        "        return len(self.X)\n",
        "\n",
        "    def __getitem__(self, idx):\n",
        "        return self.X[idx], self.y[idx]"
      ],
      "metadata": {
        "id": "v8Z7g_m-_w-1"
      },
      "execution_count": null,
      "outputs": []
    },
    {
      "cell_type": "code",
      "source": [
        "# --- Step 5: Create dataset and dataloaders ---\n",
        "dataset = FocusDataset(df, window_size=WINDOW_SIZE, normalize=True)\n",
        "\n",
        "# Split: 80% train, 15% val, 5% test\n",
        "total_size = len(dataset)\n",
        "train_size = int(0.8 * total_size)\n",
        "val_size = int(0.15 * total_size)\n",
        "test_size = total_size - train_size - val_size\n",
        "train_ds, val_ds, test_ds = random_split(dataset, [train_size, val_size, test_size])\n",
        "\n",
        "train_loader = DataLoader(train_ds, batch_size=128, shuffle=True)\n",
        "val_loader = DataLoader(val_ds, batch_size=128)\n",
        "test_loader = DataLoader(test_ds, batch_size=128)"
      ],
      "metadata": {
        "id": "zJuSs_fT_zXc"
      },
      "execution_count": null,
      "outputs": []
    },
    {
      "cell_type": "code",
      "source": [
        "\n",
        "# --- Step 6: Define model ---\n",
        "class LSTM(nn.Module):\n",
        "    def __init__(self, input_dim, hidden_dim=256, output_dim=2, layer_dim=1):\n",
        "        super(LSTM, self).__init__()\n",
        "        self.hidden_dim = hidden_dim\n",
        "        self.layer_dim = layer_dim\n",
        "        self.lstm = nn.LSTM(input_dim, hidden_dim, num_layers=layer_dim, batch_first=True)\n",
        "        self.fc = nn.Linear(hidden_dim, output_dim)\n",
        "\n",
        "    def forward(self, x):\n",
        "        h0 = torch.zeros(self.layer_dim, x.size(0), self.hidden_dim).to(x.device)\n",
        "        c0 = torch.zeros(self.layer_dim, x.size(0), self.hidden_dim).to(x.device)\n",
        "        out, _ = self.lstm(x, (h0, c0))\n",
        "        out = self.fc(out[:, -1, :])  # Final timestep\n",
        "        return out  # Shape: (batch, 2)\n"
      ],
      "metadata": {
        "id": "v4ShbW1v_1_0"
      },
      "execution_count": null,
      "outputs": []
    },
    {
      "cell_type": "code",
      "source": [
        "\n",
        "# --- Step 7: Instantiate model ---\n",
        "device = torch.device(\"cuda\" if torch.cuda.is_available() else \"cpu\")\n",
        "model = LSTM(input_dim=len(FEATURES)).to(device)\n"
      ],
      "metadata": {
        "id": "t5bAOEwx_3YU"
      },
      "execution_count": null,
      "outputs": []
    },
    {
      "cell_type": "code",
      "source": [
        "# --- Step 8: Training setup ---\n",
        "criterion = nn.CrossEntropyLoss()\n",
        "optimizer = torch.optim.Adam(model.parameters(), lr=3e-4)\n",
        "EPOCHS = 10"
      ],
      "metadata": {
        "id": "M3zCnn6e_4gE"
      },
      "execution_count": null,
      "outputs": []
    },
    {
      "cell_type": "code",
      "source": [
        "\n",
        "# --- Step 9: Training loop ---\n",
        "train_losses, val_losses = [], []\n",
        "train_accuracies, val_accuracies = [], []\n",
        "\n",
        "for epoch in range(EPOCHS):\n",
        "    model.train()\n",
        "    total_loss = 0.0\n",
        "    correct, total = 0, 0\n",
        "\n",
        "    for X_batch, y_batch in train_loader:\n",
        "        X_batch, y_batch = X_batch.to(device), y_batch.to(device)\n",
        "        optimizer.zero_grad()\n",
        "        outputs = model(X_batch)\n",
        "        loss = criterion(outputs, y_batch)\n",
        "        loss.backward()\n",
        "        optimizer.step()\n",
        "\n",
        "        total_loss += loss.item() * X_batch.size(0)\n",
        "        preds = torch.argmax(outputs, dim=1)\n",
        "        correct += (preds == y_batch).sum().item()\n",
        "        total += y_batch.size(0)\n",
        "\n",
        "    train_loss = total_loss / total\n",
        "    train_acc = correct / total\n",
        "\n",
        "        # --- Validation ---\n",
        "    model.eval()\n",
        "    val_loss, val_correct, val_total = 0.0, 0, 0\n",
        "    with torch.no_grad():\n",
        "        for X_batch, y_batch in val_loader:\n",
        "            X_batch, y_batch = X_batch.to(device), y_batch.to(device)\n",
        "            outputs = model(X_batch)\n",
        "            loss = criterion(outputs, y_batch)\n",
        "            val_loss += loss.item() * X_batch.size(0)\n",
        "            preds = torch.argmax(outputs, dim=1)\n",
        "            val_correct += (preds == y_batch).sum().item()\n",
        "            val_total += y_batch.size(0)\n",
        "\n",
        "    val_loss /= val_total\n",
        "    val_acc = val_correct / val_total\n",
        "\n",
        "    print(f\"Epoch {epoch+1}/{EPOCHS} | \"\n",
        "      f\"Train Loss: {train_loss:.4f}, Acc: {train_acc:.4f} | \"\n",
        "      f\"Val Loss: {val_loss:.4f}, Acc: {val_acc:.4f}\")\n",
        "\n",
        "    # ✅ Append loss/accuracy values for plotting\n",
        "    train_losses.append(train_loss)\n",
        "    val_losses.append(val_loss)\n",
        "    train_accuracies.append(train_acc)\n",
        "    val_accuracies.append(val_acc)\n"
      ],
      "metadata": {
        "id": "mAgOsH2U_5Pc",
        "colab": {
          "base_uri": "https://localhost:8080/"
        },
        "outputId": "4940a380-0150-43ab-a28e-618b0f770859"
      },
      "execution_count": null,
      "outputs": [
        {
          "output_type": "stream",
          "name": "stdout",
          "text": [
            "Epoch 1/10 | Train Loss: 0.0819, Acc: 0.9703 | Val Loss: 0.1086, Acc: 0.9637\n",
            "Epoch 2/10 | Train Loss: 0.0695, Acc: 0.9754 | Val Loss: 0.0886, Acc: 0.9674\n",
            "Epoch 3/10 | Train Loss: 0.0600, Acc: 0.9786 | Val Loss: 0.0882, Acc: 0.9709\n",
            "Epoch 4/10 | Train Loss: 0.0518, Acc: 0.9809 | Val Loss: 0.0792, Acc: 0.9757\n",
            "Epoch 5/10 | Train Loss: 0.0423, Acc: 0.9846 | Val Loss: 0.0837, Acc: 0.9732\n",
            "Epoch 6/10 | Train Loss: 0.0406, Acc: 0.9851 | Val Loss: 0.0745, Acc: 0.9826\n",
            "Epoch 7/10 | Train Loss: 0.0369, Acc: 0.9865 | Val Loss: 0.0611, Acc: 0.9837\n",
            "Epoch 8/10 | Train Loss: 0.0309, Acc: 0.9883 | Val Loss: 0.0682, Acc: 0.9821\n",
            "Epoch 9/10 | Train Loss: 0.0252, Acc: 0.9912 | Val Loss: 0.0563, Acc: 0.9846\n",
            "Epoch 10/10 | Train Loss: 0.0265, Acc: 0.9910 | Val Loss: 0.0526, Acc: 0.9857\n"
          ]
        }
      ]
    },
    {
      "cell_type": "code",
      "source": [
        "df['is_focused'].value_counts(normalize=True)\n"
      ],
      "metadata": {
        "colab": {
          "base_uri": "https://localhost:8080/",
          "height": 178
        },
        "id": "4mWCM-iiBCMM",
        "outputId": "d62b9e6f-2102-4b4a-99a1-8d6774a0dcdd"
      },
      "execution_count": null,
      "outputs": [
        {
          "output_type": "execute_result",
          "data": {
            "text/plain": [
              "is_focused\n",
              "True     0.810456\n",
              "False    0.189544\n",
              "Name: proportion, dtype: float64"
            ],
            "text/html": [
              "<div>\n",
              "<style scoped>\n",
              "    .dataframe tbody tr th:only-of-type {\n",
              "        vertical-align: middle;\n",
              "    }\n",
              "\n",
              "    .dataframe tbody tr th {\n",
              "        vertical-align: top;\n",
              "    }\n",
              "\n",
              "    .dataframe thead th {\n",
              "        text-align: right;\n",
              "    }\n",
              "</style>\n",
              "<table border=\"1\" class=\"dataframe\">\n",
              "  <thead>\n",
              "    <tr style=\"text-align: right;\">\n",
              "      <th></th>\n",
              "      <th>proportion</th>\n",
              "    </tr>\n",
              "    <tr>\n",
              "      <th>is_focused</th>\n",
              "      <th></th>\n",
              "    </tr>\n",
              "  </thead>\n",
              "  <tbody>\n",
              "    <tr>\n",
              "      <th>True</th>\n",
              "      <td>0.810456</td>\n",
              "    </tr>\n",
              "    <tr>\n",
              "      <th>False</th>\n",
              "      <td>0.189544</td>\n",
              "    </tr>\n",
              "  </tbody>\n",
              "</table>\n",
              "</div><br><label><b>dtype:</b> float64</label>"
            ]
          },
          "metadata": {},
          "execution_count": 21
        }
      ]
    },
    {
      "cell_type": "code",
      "source": [
        "sample_x, sample_y = dataset[0]\n",
        "print(\"Sample window shape:\", sample_x.shape)\n",
        "print(\"Sample label:\", sample_y)\n"
      ],
      "metadata": {
        "colab": {
          "base_uri": "https://localhost:8080/"
        },
        "id": "xV2pmbUVBFjU",
        "outputId": "324c7429-c5db-4599-b5a0-4cea6677e4b0"
      },
      "execution_count": null,
      "outputs": [
        {
          "output_type": "stream",
          "name": "stdout",
          "text": [
            "Sample window shape: torch.Size([10, 10])\n",
            "Sample label: tensor(1)\n"
          ]
        }
      ]
    },
    {
      "cell_type": "code",
      "source": [
        "print(len(train_losses), len(val_losses), len(train_accuracies), len(val_accuracies))\n"
      ],
      "metadata": {
        "colab": {
          "base_uri": "https://localhost:8080/"
        },
        "id": "ypy6wMAAq6Wy",
        "outputId": "d5cf4f98-e30a-4f1a-ed67-f78d1a37efe9"
      },
      "execution_count": null,
      "outputs": [
        {
          "output_type": "stream",
          "name": "stdout",
          "text": [
            "10 10 10 10\n"
          ]
        }
      ]
    },
    {
      "cell_type": "code",
      "source": [
        "# --- Step 10: Evaluate on Test Set ---\n",
        "from sklearn.metrics import classification_report\n",
        "\n",
        "model.eval()\n",
        "all_preds, all_labels = [], []\n",
        "\n",
        "import matplotlib.pyplot as plt\n",
        "\n",
        "plt.plot(train_losses, label='Train Loss')\n",
        "plt.plot(val_losses, label='Val Loss')\n",
        "plt.title(\"Loss Over Epochs\")\n",
        "plt.xlabel(\"Epoch\")\n",
        "plt.ylabel(\"Loss\")\n",
        "plt.legend()\n",
        "plt.show()\n",
        "\n",
        "plt.plot(train_accuracies, label='Train Acc')\n",
        "plt.plot(val_accuracies, label='Val Acc')\n",
        "plt.title(\"Accuracy Over Epochs\")\n",
        "plt.xlabel(\"Epoch\")\n",
        "plt.ylabel(\"Accuracy\")\n",
        "plt.legend()\n",
        "plt.show()\n",
        "\n",
        "\n",
        "with torch.no_grad():\n",
        "    for X_batch, y_batch in test_loader:\n",
        "        X_batch = X_batch.to(device)\n",
        "        outputs = model(X_batch)\n",
        "        preds = torch.argmax(outputs, dim=1).cpu().numpy()\n",
        "        all_preds.extend(preds)\n",
        "        all_labels.extend(y_batch.numpy())\n",
        "\n",
        "# Classification metrics\n",
        "print(classification_report(all_labels, all_preds, target_names=[\"Not Focused\", \"Focused\"]))\n"
      ],
      "metadata": {
        "colab": {
          "base_uri": "https://localhost:8080/",
          "height": 1000
        },
        "id": "GG2lN0b8DTFE",
        "outputId": "86460bb2-7659-4615-969c-8d75a9b94797"
      },
      "execution_count": null,
      "outputs": [
        {
          "output_type": "display_data",
          "data": {
            "text/plain": [
              "<Figure size 640x480 with 1 Axes>"
            ],
            "image/png": "[encoded data removed]"
          },
          "metadata": {}
        },
        {
          "output_type": "display_data",
          "data": {
            "text/plain": [
              "<Figure size 640x480 with 1 Axes>"
            ],
            "image/png": "[encoded data removed]"
          },
          "metadata": {}
        },
        {
          "output_type": "stream",
          "name": "stdout",
          "text": [
            "              precision    recall  f1-score   support\n",
            "\n",
            " Not Focused       0.94      0.98      0.96       397\n",
            "     Focused       1.00      0.98      0.99      1732\n",
            "\n",
            "    accuracy                           0.98      2129\n",
            "   macro avg       0.97      0.98      0.97      2129\n",
            "weighted avg       0.98      0.98      0.98      2129\n",
            "\n"
          ]
        }
      ]
    },
    {
      "cell_type": "code",
      "source": [
        "# --- Step 11: Save model weights ---\n",
        "torch.save(model.state_dict(), \"lstm_focus_classifier.pt\")\n"
      ],
      "metadata": {
        "id": "dEDnxTHJDYjl"
      },
      "execution_count": null,
      "outputs": []
    },
    {
      "cell_type": "markdown",
      "source": [
        "# Load later"
      ],
      "metadata": {
        "id": "oPq0ZycaDcKE"
      }
    },
    {
      "cell_type": "code",
      "source": [
        "#load later\n",
        "model.load_state_dict(torch.load(\"lstm_focus_classifier.pt\"))\n",
        "model.eval()\n"
      ],
      "metadata": {
        "id": "KzRaFAjWDdyl",
        "colab": {
          "base_uri": "https://localhost:8080/",
          "height": 176
        },
        "outputId": "00ac08ff-14b9-4da5-a6b2-7679f42d2a60"
      },
      "execution_count": null,
      "outputs": [
        {
          "output_type": "error",
          "ename": "NameError",
          "evalue": "name 'model' is not defined",
          "traceback": [
            "\u001b[0;31m---------------------------------------------------------------------------\u001b[0m",
            "\u001b[0;31mNameError\u001b[0m                                 Traceback (most recent call last)",
            "\u001b[0;32m/tmp/ipython-input-5-2219095878.py\u001b[0m in \u001b[0;36m<cell line: 0>\u001b[0;34m()\u001b[0m\n\u001b[1;32m      1\u001b[0m \u001b[0;31m#load later\u001b[0m\u001b[0;34m\u001b[0m\u001b[0;34m\u001b[0m\u001b[0m\n\u001b[0;32m----> 2\u001b[0;31m \u001b[0mmodel\u001b[0m\u001b[0;34m.\u001b[0m\u001b[0mload_state_dict\u001b[0m\u001b[0;34m(\u001b[0m\u001b[0mtorch\u001b[0m\u001b[0;34m.\u001b[0m\u001b[0mload\u001b[0m\u001b[0;34m(\u001b[0m\u001b[0;34m\"lstm_focus_classifier.pt\"\u001b[0m\u001b[0;34m)\u001b[0m\u001b[0;34m)\u001b[0m\u001b[0;34m\u001b[0m\u001b[0;34m\u001b[0m\u001b[0m\n\u001b[0m\u001b[1;32m      3\u001b[0m \u001b[0mmodel\u001b[0m\u001b[0;34m.\u001b[0m\u001b[0meval\u001b[0m\u001b[0;34m(\u001b[0m\u001b[0;34m)\u001b[0m\u001b[0;34m\u001b[0m\u001b[0;34m\u001b[0m\u001b[0m\n",
            "\u001b[0;31mNameError\u001b[0m: name 'model' is not defined"
          ]
        }
      ]
    },
    {
      "cell_type": "markdown",
      "source": [
        "Handle Class Imbalance (Optional, but recommended)"
      ],
      "metadata": {
        "id": "NL0042gTDhZE"
      }
    },
    {
      "cell_type": "code",
      "source": [
        "class_counts = df['is_focused'].value_counts().sort_index().to_numpy()\n",
        "class_weights = 1.0 / torch.tensor(class_counts, dtype=torch.float32)\n",
        "class_weights = class_weights / class_weights.sum()\n",
        "\n",
        "criterion = nn.CrossEntropyLoss(weight=class_weights.to(device))\n"
      ],
      "metadata": {
        "id": "-uUAcY7-Dh1c"
      },
      "execution_count": null,
      "outputs": []
    }
  ]
}